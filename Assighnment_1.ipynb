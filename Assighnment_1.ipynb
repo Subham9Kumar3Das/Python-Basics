{
 "cells": [
  {
   "cell_type": "markdown",
   "id": "7da5e834-ee41-47df-b7fb-da630910d754",
   "metadata": {
    "jp-MarkdownHeadingCollapsed": true,
    "tags": []
   },
   "source": [
    "## 1. Explain the key features of python that make it a popular choice for programming."
   ]
  },
  {
   "cell_type": "markdown",
   "id": "73c547d7-d286-4b88-ab0f-56c4087fd708",
   "metadata": {},
   "source": [
    "* Python is an eas language to understand and write making it a popular choice among developers and programmers.\n",
    "* It has an extensie library for different aspects such as machine learning,data analysis,visualization etc.\n",
    "* It supports OOPs concept and functional programming."
   ]
  },
  {
   "cell_type": "markdown",
   "id": "c1323cc8-8b5e-48f9-a9a7-150c572a0acc",
   "metadata": {
    "jp-MarkdownHeadingCollapsed": true,
    "tags": []
   },
   "source": [
    "## 2. Describe the role of predefined keywords in Python and provide examples of how they are used in a programm"
   ]
  },
  {
   "cell_type": "markdown",
   "id": "234d3f39-6e21-47c3-b694-31435b5d767d",
   "metadata": {},
   "source": [
    "* Keywords are reserved words in python  that have a special meaning to perform some operation which can not be used as naming variables. Eg if,while,return etc"
   ]
  },
  {
   "cell_type": "code",
   "execution_count": 1,
   "id": "aa7948a7-3634-45e9-99f4-67495c849983",
   "metadata": {},
   "outputs": [
    {
     "name": "stdout",
     "output_type": "stream",
     "text": [
      "SKD\n"
     ]
    }
   ],
   "source": [
    "if 1<2:\n",
    "    print('SKD')"
   ]
  },
  {
   "cell_type": "markdown",
   "id": "5122cfec-1c58-4309-a0e7-320e075bc57b",
   "metadata": {
    "jp-MarkdownHeadingCollapsed": true,
    "tags": []
   },
   "source": [
    "## 3.Compare and contrast mutable and immutable objects in Python with examples."
   ]
  },
  {
   "cell_type": "markdown",
   "id": "ccaae620-6578-462c-b392-4325a915947b",
   "metadata": {},
   "source": [
    "* Mutable objects:\n",
    "\n",
    "     They can be changed after the are created.\n",
    "     \n",
    "    eg:lists,dictionaries,sets\n",
    "    \n",
    "* Immutable objects:\n",
    "\n",
    "    *They can not be changed after the are created.\n",
    "    \n",
    "    eg:tupple,string"
   ]
  },
  {
   "cell_type": "code",
   "execution_count": 5,
   "id": "d98883c5-feab-41d1-b57d-a97b98c191cc",
   "metadata": {},
   "outputs": [
    {
     "name": "stdout",
     "output_type": "stream",
     "text": [
      "[1, 7, 3, 4]\n"
     ]
    },
    {
     "ename": "TypeError",
     "evalue": "'str' object does not support item assignment",
     "output_type": "error",
     "traceback": [
      "\u001b[0;31m---------------------------------------------------------------------------\u001b[0m",
      "\u001b[0;31mTypeError\u001b[0m                                 Traceback (most recent call last)",
      "Cell \u001b[0;32mIn[5], line 5\u001b[0m\n\u001b[1;32m      3\u001b[0m l[\u001b[38;5;241m1\u001b[39m]\u001b[38;5;241m=\u001b[39m\u001b[38;5;241m7\u001b[39m \u001b[38;5;66;03m#list changed.\u001b[39;00m\n\u001b[1;32m      4\u001b[0m \u001b[38;5;28mprint\u001b[39m(l)\n\u001b[0;32m----> 5\u001b[0m \u001b[43ms\u001b[49m\u001b[43m[\u001b[49m\u001b[38;5;241;43m1\u001b[39;49m\u001b[43m]\u001b[49m\u001b[38;5;241m=\u001b[39m\u001b[38;5;124m'\u001b[39m\u001b[38;5;124mR\u001b[39m\u001b[38;5;124m'\u001b[39m\u001b[38;5;66;03m# String not changed.\u001b[39;00m\n\u001b[1;32m      6\u001b[0m \u001b[38;5;28mprint\u001b[39m(s)\n",
      "\u001b[0;31mTypeError\u001b[0m: 'str' object does not support item assignment"
     ]
    }
   ],
   "source": [
    "l=[1,2,3,4]\n",
    "s='SKD'\n",
    "l[1]=7 #list changed.\n",
    "print(l)\n",
    "s[1]='R'# String not changed.\n",
    "print(s)"
   ]
  },
  {
   "cell_type": "markdown",
   "id": "ae6fa9dc-d8c0-42b3-bbed-7d7804743ce1",
   "metadata": {
    "jp-MarkdownHeadingCollapsed": true,
    "tags": []
   },
   "source": [
    "## 4.Discuss the different types of operators in Python and provide examples of how they are used."
   ]
  },
  {
   "cell_type": "code",
   "execution_count": 1,
   "id": "281f71c8-3101-47b6-bfc3-7f8940955602",
   "metadata": {},
   "outputs": [
    {
     "name": "stdout",
     "output_type": "stream",
     "text": [
      "3\n",
      "True\n",
      "True\n",
      "1\n"
     ]
    }
   ],
   "source": [
    "# Different types of Operators are:\n",
    "   \n",
    " # Arithmatic Operator:(+,-,/,*,%)\n",
    "a1=1+2 #do mathematical operation\n",
    "print(a1)   \n",
    " # Relational Operator:(<,>,<=,>=,==,!=)\n",
    "a2=1<2 # compare the values\n",
    "print(a2)    \n",
    "# Logical operator:(AND,OR,NOT)\n",
    "a3=1<2 and 2>1 # combine conditions\n",
    "print(a3)    \n",
    "# Assighnment Operator:(=)\n",
    "a=1 # assighn a value to a variable.\n",
    "print(a)"
   ]
  },
  {
   "cell_type": "markdown",
   "id": "ad07d95e-c370-4486-b61e-d8ce5355fecd",
   "metadata": {
    "jp-MarkdownHeadingCollapsed": true,
    "tags": []
   },
   "source": [
    "## 5.Explain type casting in Python with examples in a simple way."
   ]
  },
  {
   "cell_type": "code",
   "execution_count": 7,
   "id": "f45263da-3658-49e7-ae1f-86be57427655",
   "metadata": {},
   "outputs": [
    {
     "name": "stdout",
     "output_type": "stream",
     "text": [
      "3.5 <class 'float'>\n",
      "2 <class 'int'>\n",
      "2.0 <class 'float'>\n",
      "2.0 <class 'str'>\n"
     ]
    }
   ],
   "source": [
    "# Type casting is a process to convert one data type to another and it's of two types:\n",
    "\n",
    "# Implicit: We can say if a integer added to  float number than python automaticaly converts it into float data type.\n",
    "a=1# int\n",
    "b=2.5 #float\n",
    "print(a+b,type(a+b))# Changes to float\n",
    "\n",
    "# Explicit conversion :We have to force the changes by using functions like int float string.\n",
    "c=2\n",
    "d=float(c)\n",
    "e=str(d)\n",
    "print(c,type(c))\n",
    "print(d,type(d))\n",
    "print(e,type(e))"
   ]
  },
  {
   "cell_type": "markdown",
   "id": "e32625d1-793a-48cc-ad45-8c2009ce7635",
   "metadata": {
    "jp-MarkdownHeadingCollapsed": true,
    "tags": []
   },
   "source": [
    "## 6.How do conditional statements work in Python?"
   ]
  },
  {
   "cell_type": "code",
   "execution_count": 13,
   "id": "a6465e13-92b0-4fa2-a023-31d7ea0283bc",
   "metadata": {},
   "outputs": [
    {
     "name": "stdin",
     "output_type": "stream",
     "text": [
      "Enter a number -3\n"
     ]
    },
    {
     "name": "stdout",
     "output_type": "stream",
     "text": [
      "-ve\n"
     ]
    }
   ],
   "source": [
    "# Conditional statements are the decision making statement .There are three statements used to make decisions such as if,elif,elses:\n",
    "n=int(input(\"Enter a number\"))\n",
    "if n>0:#Executes if true \n",
    "    print(\"+ve\")\n",
    "elif n==0:#Executes if true and can be used for multiple if else statements\n",
    "    print('0')\n",
    "else:# Exexcutes if all the conditions are false.\n",
    "    print(\"-ve\")"
   ]
  },
  {
   "cell_type": "markdown",
   "id": "7293ddf6-81b0-4105-be69-62e3882de923",
   "metadata": {
    "jp-MarkdownHeadingCollapsed": true,
    "tags": []
   },
   "source": [
    "## 7.Describe different looping statements with eg and there usecases."
   ]
  },
  {
   "cell_type": "code",
   "execution_count": 15,
   "id": "15fefc9f-87f4-4806-bf3c-3f98ae0c66b0",
   "metadata": {},
   "outputs": [
    {
     "name": "stdout",
     "output_type": "stream",
     "text": [
      "10\n",
      "20.0\n"
     ]
    }
   ],
   "source": [
    "# Looping statements are used to execute a statement multiple times.Two types of looping system are for and while loop:\n",
    "l=[1,2,3,4]\n",
    "s=0\n",
    "for i in l:# for loop is used to iterate over a sequence of elements\n",
    "    s=s+i \n",
    "print(s)\n",
    "\n",
    "n=234\n",
    "while n>0:# While loop is used to execute a code until a condition becomes false.\n",
    "    r=n%10\n",
    "    s=s+r\n",
    "    n=n/10\n",
    "print(s)"
   ]
  },
  {
   "cell_type": "code",
   "execution_count": null,
   "id": "5d77cb1e-e5aa-478e-be85-2eaee72f3e0b",
   "metadata": {},
   "outputs": [],
   "source": []
  }
 ],
 "metadata": {
  "kernelspec": {
   "display_name": "Python 3 (ipykernel)",
   "language": "python",
   "name": "python3"
  },
  "language_info": {
   "codemirror_mode": {
    "name": "ipython",
    "version": 3
   },
   "file_extension": ".py",
   "mimetype": "text/x-python",
   "name": "python",
   "nbconvert_exporter": "python",
   "pygments_lexer": "ipython3",
   "version": "3.10.8"
  }
 },
 "nbformat": 4,
 "nbformat_minor": 5
}
